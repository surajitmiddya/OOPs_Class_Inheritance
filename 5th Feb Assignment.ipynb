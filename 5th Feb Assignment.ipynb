{
 "cells": [
  {
   "cell_type": "markdown",
   "id": "36c015ea-a8b4-43df-af24-31f1dda81b44",
   "metadata": {},
   "source": [
    "# Q1. Explain Class and Object with respect to Object-Oriented Programming. Give a suitable example."
   ]
  },
  {
   "cell_type": "markdown",
   "id": "106e7e37-4efb-49de-95a9-d10405f21c47",
   "metadata": {},
   "source": [
    "Ans: In object-oriented programming, a class is a blueprint or a template that defines a set of attributes and behaviors that are common to a group of objects. \n",
    "\n",
    "An object, on the other hand, is an instance of a class that has specific values for its attributes and can perform certain actions, or methods.\n",
    "\n",
    "* For example, let's consider a class called \"Car\" that represents a generic car with certain attributes and behaviors. The Car class might have attributes such as \"make\", \"model\", \"year\", \"color\", \"mileage\", and so on. It might also have behaviors, such as \"start\", \"accelerate\", \"brake\", and \"stop\".\n",
    "\n",
    "To create an object or instance of the Car class, we would first define the class and then create a new object based on that class, as shown in the following example code:"
   ]
  },
  {
   "cell_type": "code",
   "execution_count": 6,
   "id": "7eedbedf-2df5-449d-8b53-644ac01e21cb",
   "metadata": {},
   "outputs": [
    {
     "data": {
      "text/plain": [
       "'Toyota'"
      ]
     },
     "execution_count": 6,
     "metadata": {},
     "output_type": "execute_result"
    }
   ],
   "source": [
    "class Car:\n",
    "    def __init__(self, make, model, year, color, mileage):\n",
    "        self.make = make\n",
    "        self.model = model\n",
    "        self.year = year\n",
    "        self.color = color\n",
    "        self.mileage = mileage\n",
    "\n",
    "    def start(self):\n",
    "        print(\"Starting the engine...\")\n",
    "\n",
    "    def accelerate(self):\n",
    "        print(\"Accelerating...\")\n",
    "\n",
    "    def brake(self):\n",
    "        print(\"Applying the brakes...\")\n",
    "\n",
    "    def stop(self):\n",
    "        print(\"Stopping the car...\")\n",
    "\n",
    "my_car = Car(\"Toyota\", \"Camry\", 2019, \"Red\", 15000)    # an object is created my_car\n",
    "my_car.make"
   ]
  },
  {
   "cell_type": "code",
   "execution_count": 5,
   "id": "a245a0db-92f8-4256-b40e-2892c6d73578",
   "metadata": {},
   "outputs": [
    {
     "data": {
      "text/plain": [
       "15000"
      ]
     },
     "execution_count": 5,
     "metadata": {},
     "output_type": "execute_result"
    }
   ],
   "source": [
    "my_car.mileage"
   ]
  },
  {
   "cell_type": "markdown",
   "id": "033c1fb9-9ea7-4f5b-8f99-aae7acb68483",
   "metadata": {},
   "source": [
    "In this example, we have defined a Car class with several attributes and methods. We then create an instance of the Car class called \"my_car\", with the specific values for its attributes. We can then use the methods defined in the Car class to perform actions on the my_car object, such as starting the engine or applying the brakes."
   ]
  },
  {
   "cell_type": "code",
   "execution_count": 7,
   "id": "7937d753-5a9c-47a9-a535-f64544829d99",
   "metadata": {},
   "outputs": [
    {
     "name": "stdout",
     "output_type": "stream",
     "text": [
      "Starting the engine...\n",
      "Accelerating...\n",
      "Applying the brakes...\n",
      "Stopping the car...\n"
     ]
    }
   ],
   "source": [
    "my_car.start()\n",
    "my_car.accelerate()\n",
    "my_car.brake()\n",
    "my_car.stop()"
   ]
  },
  {
   "cell_type": "markdown",
   "id": "83ca4330-cc31-46b8-8320-d497d3d6b0c1",
   "metadata": {},
   "source": [
    "# Q2. Name the four pillars of OOPs."
   ]
  },
  {
   "cell_type": "markdown",
   "id": "b0d7b2c4-4d74-4996-af57-3b79d8b27eb7",
   "metadata": {},
   "source": [
    "Ans: The four pillars of Object-Oriented Programming (OOPs) are:\n",
    "\n",
    "* Encapsulation: Encapsulation refers to the mechanism of hiding the implementation details of an object from the outside world, and only exposing the necessary information to the user. This helps in protecting the data and behavior of the object from external interference, and also promotes modularity and code reusability.\n",
    "\n",
    "* Inheritance: Inheritance allows a new class to be based on an existing class, inheriting all the properties and methods of the parent class, and also adding new properties and methods to the child class. This promotes code reuse, and also enables the creation of a hierarchy of classes, with more specialized classes inheriting from more general ones.\n",
    "\n",
    "* Polymorphism: Polymorphism refers to the ability of objects of different classes to be treated as if they are of the same class, by using the same interface or method signature. This promotes code flexibility and extensibility, and enables the creation of generic algorithms and data structures that can work with objects of multiple types.\n",
    "\n",
    "* Abstraction: Abstraction refers to the process of identifying the essential features and behaviors of an object, and representing them in a simplified, abstract form. This helps in managing complexity, and also promotes code clarity and maintainability."
   ]
  },
  {
   "cell_type": "markdown",
   "id": "12e99fc4-123b-467e-8708-5f12a31ee208",
   "metadata": {},
   "source": [
    "# Q3. Explain why the __init__() function is used. Give a suitable example."
   ]
  },
  {
   "cell_type": "markdown",
   "id": "7a22704b-2ebf-42b9-954d-f830518c5143",
   "metadata": {},
   "source": [
    "Ans: The __init__() function is a special method in Python classes that is called when an object of the class is created. It is used to initialize the object's attributes with default values or values provided by the user. The __init__() method is also known as the constructor method.\n",
    "\n",
    "The __init__() method is useful because it ensures that an object of the class is in a consistent state after it has been created. Without the __init__() method, the user would have to manually set the attributes of the object after creating it, which can be tedious and error-prone.\n",
    "\n",
    "Here is an example to illustrate the use of __init__() method:"
   ]
  },
  {
   "cell_type": "code",
   "execution_count": 1,
   "id": "5b306f87-3288-4793-b313-199a5af0a99a",
   "metadata": {},
   "outputs": [],
   "source": [
    "class Car:\n",
    "    def __init__(self, make, model, year, color):\n",
    "        self.make = make\n",
    "        self.model = model\n",
    "        self.year = year\n",
    "        self.color = color\n",
    "        self.speed = 0\n",
    "\n",
    "    def accelerate(self):\n",
    "        self.speed += 10\n",
    "\n",
    "    def brake(self):\n",
    "        self.speed -= 10\n",
    "        if self.speed < 0:\n",
    "            self.speed = 0\n",
    "\n",
    "car1 = Car(\"Toyota\", \"Corolla\", 2022, \"red\")\n"
   ]
  },
  {
   "cell_type": "markdown",
   "id": "d69825da-e797-4e42-815c-11edff8c1d30",
   "metadata": {},
   "source": [
    "In this example, the Car class has an __init__() method that initializes the attributes of the Car object with default values. When creating a Car object, the user must provide the make, model, year, and color parameters. These parameters are then used to initialize the attributes of the Car object.\n",
    "\n",
    "The accelerate() and brake() methods are used to control the speed of the car. The speed attribute is initialized to 0 in the __init__() method.\n",
    "\n",
    "By using the __init__() method, the Car object is always in a consistent state after it has been created. The user can create multiple Car objects with different attributes, and each object will have its own set of attribute values."
   ]
  },
  {
   "cell_type": "markdown",
   "id": "9633963b-9964-4e67-b86f-f9b9c9b22a4a",
   "metadata": {},
   "source": [
    "# Q4. Why self is used in OOPs?"
   ]
  },
  {
   "cell_type": "markdown",
   "id": "23c1ab23-4f77-4a46-ae11-b7dd46cd75fd",
   "metadata": {},
   "source": [
    "Ans: In object-oriented programming (OOP), self is a reference to the current instance of the class. It is used to access the attributes and methods of the class within the class's methods.\n",
    "\n",
    "The self parameter is the first parameter of every method in a class. When a method is called on an instance of the class, the self parameter is automatically passed to the method, and it refers to the instance of the class on which the method is being called.\n",
    "\n",
    "For example, consider the following Person class:"
   ]
  },
  {
   "cell_type": "code",
   "execution_count": 6,
   "id": "fcd2ade3-730e-47c5-98c8-79a7c6ec7db0",
   "metadata": {},
   "outputs": [],
   "source": [
    "class Person:\n",
    "    def __init__(self, name, age):\n",
    "        self.name = name\n",
    "        self.age = age\n",
    "\n",
    "    def say_hello(self):\n",
    "        print(\"Hello, my name is\", self.name, \"and I am\", self.age, \"years old.\")"
   ]
  },
  {
   "cell_type": "markdown",
   "id": "0d6f88b3-3b81-4bdc-ba24-f5e8c280d585",
   "metadata": {},
   "source": [
    "In this class, the __init__() method takes two parameters name and age to initialize the name and age attributes of the class. \n",
    "The say_hello() method uses the self parameter to access the name and age attributes of the class to print a greeting message."
   ]
  },
  {
   "cell_type": "code",
   "execution_count": 5,
   "id": "72bbef16-ad1e-4919-a4eb-8c340e3973ec",
   "metadata": {},
   "outputs": [
    {
     "name": "stdout",
     "output_type": "stream",
     "text": [
      "Hello, my name is Surajit and I am 29 years old.\n"
     ]
    }
   ],
   "source": [
    "person = Person(\"Surajit\", 29)\n",
    "person.say_hello()"
   ]
  },
  {
   "cell_type": "markdown",
   "id": "75826720-4a8c-480e-a514-5db4400683b5",
   "metadata": {},
   "source": [
    "Therefore, self is an essential part of OOP and allows us to create and manipulate instances of a class by providing a reference to the instance itself."
   ]
  },
  {
   "cell_type": "code",
   "execution_count": null,
   "id": "745907e3-9363-48c1-a3c2-1ba0c791b4d0",
   "metadata": {},
   "outputs": [],
   "source": [
    "# Q5. What is inheritance? Give an example for each type of inheritance."
   ]
  },
  {
   "cell_type": "markdown",
   "id": "41f0483b-9527-486b-bf24-c573b0f7c572",
   "metadata": {},
   "source": [
    "Ans: Inheritance is one of the key features of object-oriented programming (OOP) that allows a new class to be based on an existing class, inheriting its attributes and methods. The new class is called the derived class, and the existing class is called the base class. Inheritance is a way to achieve code reusability, as the derived class can reuse the code of the base class and add new functionality to it.\n",
    "\n",
    "There are four types of inheritance in Python:\n",
    "\n",
    "* Single Inheritance: In single inheritance, a derived class inherits the properties and methods of a single base class. Example:-"
   ]
  },
  {
   "cell_type": "code",
   "execution_count": 1,
   "id": "637bed25-2e8c-4ebd-a11a-2d47b1d9c642",
   "metadata": {},
   "outputs": [
    {
     "name": "stdout",
     "output_type": "stream",
     "text": [
      "Buddy\n",
      "A dog barks.\n"
     ]
    }
   ],
   "source": [
    "class Animal:\n",
    "    def __init__(self, name):\n",
    "        self.name = name\n",
    "\n",
    "    def speak(self):\n",
    "        print(\"An animal makes a sound.\")\n",
    "\n",
    "class Dog(Animal):\n",
    "    def speak(self):\n",
    "        print(\"A dog barks.\")\n",
    "\n",
    "dog = Dog(\"Buddy\")\n",
    "print(dog.name)\n",
    "dog.speak()"
   ]
  },
  {
   "cell_type": "markdown",
   "id": "56c00d01-78d0-4333-8261-dbe067b50e98",
   "metadata": {},
   "source": [
    "----------------------------------------------------------------------\n",
    "In this example, the Dog class inherits from the Animal class, which means it can access the name and age properties of the Animal class.\n",
    "\n",
    "* Multiple inheritance: In this type of inheritance, a subclass inherits from more than one superclass.\n",
    "Example:"
   ]
  },
  {
   "cell_type": "code",
   "execution_count": 3,
   "id": "cd2e67a0-a32c-41b0-94dd-2e21f22a1a3b",
   "metadata": {},
   "outputs": [],
   "source": [
    "class A:\n",
    "    def method_a(self):\n",
    "        print(\"Method A\")\n",
    "\n",
    "class B:\n",
    "    def method_b(self):\n",
    "        print(\"Method B\")\n",
    "\n",
    "class C(A, B):\n",
    "    def method_c(self):\n",
    "        print(\"Method C\")\n"
   ]
  },
  {
   "cell_type": "markdown",
   "id": "f33cee57-7b52-4142-a62e-719e1ffe7038",
   "metadata": {},
   "source": [
    "In this example, the C class inherits from both the A and B classes, which means it can access the methods method_a() and method_b().\n",
    "\n",
    "* Hierarchical inheritance: In this type of inheritance, multiple subclasses inherit from the same superclass.\n",
    "Example:"
   ]
  },
  {
   "cell_type": "code",
   "execution_count": 9,
   "id": "fd9d3458-7c9b-4882-8f62-7619653c0578",
   "metadata": {},
   "outputs": [],
   "source": [
    "class Animal:\n",
    "    def __init__(self, name, age):\n",
    "        self.name = name\n",
    "        self.age = age\n",
    "\n",
    "class Cat(Animal):\n",
    "    def meow(self):\n",
    "        print(\"Meow!\")\n",
    "\n",
    "class Dog(Animal):\n",
    "    def bark(self):\n",
    "        print(\"Woof!\")\n"
   ]
  },
  {
   "cell_type": "markdown",
   "id": "d6f939af-ed2f-40ce-b365-672b5adb00b2",
   "metadata": {},
   "source": [
    "In this example, both the Cat and Dog classes inherit from the Animal class, which means they can access the name and age properties of the Animal class.\n",
    "\n",
    "* Multilevel inheritance: In this type of inheritance, a subclass inherits from another subclass, which in turn inherits from a superclass.\n",
    "Example:"
   ]
  },
  {
   "cell_type": "code",
   "execution_count": 5,
   "id": "f872476a-cb37-4df8-8ffc-24661b4d76c2",
   "metadata": {},
   "outputs": [],
   "source": [
    "class Animal:\n",
    "    def __init__(self, name, age):\n",
    "        self.name = name\n",
    "        self.age = age\n",
    "\n",
    "class Mammal(Animal):\n",
    "    def feed_young(self):\n",
    "        print(\"Feeding young\")\n",
    "\n",
    "class Dog(Mammal):\n",
    "    def bark(self):\n",
    "        print(\"Woof!\")\n"
   ]
  },
  {
   "cell_type": "markdown",
   "id": "129d9c3a-afb7-4788-8bfb-e8c5c95df3ad",
   "metadata": {},
   "source": [
    "In this example, the Dog class inherits from the Mammal class, which in turn inherits from the Animal class. This means that the Dog class can access the name and age properties of the Animal class, as well as the feed_young() method of the Mammal class."
   ]
  }
 ],
 "metadata": {
  "kernelspec": {
   "display_name": "Python 3 (ipykernel)",
   "language": "python",
   "name": "python3"
  },
  "language_info": {
   "codemirror_mode": {
    "name": "ipython",
    "version": 3
   },
   "file_extension": ".py",
   "mimetype": "text/x-python",
   "name": "python",
   "nbconvert_exporter": "python",
   "pygments_lexer": "ipython3",
   "version": "3.10.8"
  }
 },
 "nbformat": 4,
 "nbformat_minor": 5
}
